{
 "cells": [
  {
   "cell_type": "code",
   "execution_count": 1,
   "id": "1fc68f81",
   "metadata": {},
   "outputs": [
    {
     "name": "stdout",
     "output_type": "stream",
     "text": [
      "Imputed dataset saved to /Users/Altair93/Documents/Dottorato/PATHS/Python_analisys/Intermediate_data/ML/Analysis_for_ML.ods\n"
     ]
    }
   ],
   "source": [
    "import pandas as pd\n",
    "from sklearn.experimental import enable_iterative_imputer  # noqa\n",
    "from sklearn.impute import IterativeImputer\n",
    "from sklearn.ensemble import RandomForestRegressor\n",
    "from sklearn.preprocessing import LabelEncoder\n",
    "\n",
    "# 1. Load the ODS file\n",
    "df = pd.read_excel(\"/Users/Altair93/Documents/Dottorato/PATHS/Python_analisys/Intermediate_data/ML/Analysis_ver2_all.ods\", engine=\"odf\", sheet_name=\"Sheet1\")\n",
    "\n",
    "# 2. Identify the ID column (first column) and separate it\n",
    "id_col = df.columns[0]\n",
    "df_ids = df[[id_col]]\n",
    "df_features = df.drop(columns=[id_col])\n",
    "\n",
    "# 3. Configure the IterativeImputer with RandomForestRegressor\n",
    "estimator = RandomForestRegressor(n_estimators=100, random_state=42)\n",
    "imputer = IterativeImputer(estimator=estimator, max_iter=10, random_state=42)\n",
    "\n",
    "# 4. Apply imputation to all remaining columns\n",
    "df_imputed_array = imputer.fit_transform(df_features)\n",
    "df_imputed_features = pd.DataFrame(df_imputed_array, \n",
    "                                   columns=df_features.columns, \n",
    "                                   index=df_features.index)\n",
    "\n",
    "# 5. Reattach the ID column\n",
    "df_imputed = pd.concat([df_ids, df_imputed_features], axis=1)\n",
    "\n",
    "# 6. Save the imputed dataset back to ODS\n",
    "output_path = \"/Users/Altair93/Documents/Dottorato/PATHS/Python_analisys/Intermediate_data/ML/Analysis_for_ML.ods\"\n",
    "df_imputed.to_excel(output_path, engine=\"odf\", index=False, sheet_name=\"ImputedData\")\n",
    "\n",
    "print(f\"Imputed dataset saved to {output_path}\")\n"
   ]
  }
 ],
 "metadata": {
  "kernelspec": {
   "display_name": "paths",
   "language": "python",
   "name": "python3"
  },
  "language_info": {
   "codemirror_mode": {
    "name": "ipython",
    "version": 3
   },
   "file_extension": ".py",
   "mimetype": "text/x-python",
   "name": "python",
   "nbconvert_exporter": "python",
   "pygments_lexer": "ipython3",
   "version": "3.10.18"
  }
 },
 "nbformat": 4,
 "nbformat_minor": 5
}
